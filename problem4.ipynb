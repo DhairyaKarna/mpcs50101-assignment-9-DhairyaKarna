{
 "cells": [
  {
   "cell_type": "markdown",
   "metadata": {},
   "source": [
    "# Problem 4: Product of Odds Tongue Twister\n",
    "The following function accepts a list of numbers and computes the product of all the odd numbers.\n",
    "\n",
    "def product_of_odds(list):\\\n",
    "  result = 1\\\n",
    "  for i in list:\\\n",
    "    if i % 2 == 1:\\\n",
    "      result *= i\\\n",
    "  return result\n",
    "\n",
    "Rewrite the function using a combination of lambda, map, reduce and filter.\n",
    "\n",
    "Use the following template and provide your code for reduce_function, filter_function, and map_function.\n",
    "\n",
    "def product_of_odds(list): \\\n",
    "    return reduce(reduce_function, \\\n",
    "      filter(filter_function, \\\n",
    "        map(map_function, list)))"
   ]
  },
  {
   "cell_type": "code",
   "execution_count": 5,
   "metadata": {},
   "outputs": [
    {
     "name": "stdout",
     "output_type": "stream",
     "text": [
      "945\n"
     ]
    }
   ],
   "source": [
    "from functools import reduce\n",
    "\n",
    "def product_of_odds_reduce(list):\n",
    "    \"\"\"Function to give the product of odd numbers in a list\"\"\"\n",
    "\n",
    "    #Map changes list of strings from input to int for operations\n",
    "    #Filter uses x%2!=0 condition to filter out the odd numbers\n",
    "    #Reduce uses the multiplcation operation to keep on multiplying numbers after filtering \n",
    "    return reduce(lambda x,y: x*y, filter(lambda x: (x%2 != 0), map(int, list)))\n",
    "\n",
    "#The input taken is 1,2,3,4,5,6,7,8,9\n",
    "list_of_numbers = input(\"Enter the list of number: \").split(',')\n",
    "\n",
    "#Answer = 1*3*5*7*9 = 945\n",
    "print(product_of_odds_reduce(list_of_numbers))\n"
   ]
  }
 ],
 "metadata": {
  "kernelspec": {
   "display_name": "Python 3.9.12 ('base')",
   "language": "python",
   "name": "python3"
  },
  "language_info": {
   "codemirror_mode": {
    "name": "ipython",
    "version": 3
   },
   "file_extension": ".py",
   "mimetype": "text/x-python",
   "name": "python",
   "nbconvert_exporter": "python",
   "pygments_lexer": "ipython3",
   "version": "3.9.12"
  },
  "orig_nbformat": 4,
  "vscode": {
   "interpreter": {
    "hash": "df4116c29ce570581e1cb683795582f7adb44d67e4f558c03f5b862127a8895d"
   }
  }
 },
 "nbformat": 4,
 "nbformat_minor": 2
}
