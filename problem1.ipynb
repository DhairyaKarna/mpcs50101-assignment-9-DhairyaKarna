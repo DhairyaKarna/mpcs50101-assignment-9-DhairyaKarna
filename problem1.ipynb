{
 "cells": [
  {
   "cell_type": "markdown",
   "metadata": {},
   "source": [
    "# Problem 1: Time Complexity of Higher Order Functions\n",
    "What is the time complexity in Big-O notation of the following code snippets? You can assume that mathematical operations (eg. **, %, + ) take a constant time.\n",
    "\n",
    "\n",
    "Snippet 1\n",
    "map(lambda x: x ** 2, numbers)\n",
    "\n",
    "Snippet 2\n",
    "filter(lambda x: x % 2, numbers)\n",
    "\n",
    "Snippet 3\n",
    "reduce(lambda x,y: x + y, numbers)"
   ]
  },
  {
   "cell_type": "markdown",
   "metadata": {},
   "source": [
    "Solution:\n",
    "\n",
    "If we assume the length of the numbers variable is 'n', then\n",
    "\n",
    "Snippet 1 - We square all the elements in numbers. Since ** takes O(1) time, hence the map will take O(n) time.\n",
    "\n",
    "Snippet 2 - We filter out all the even numbers from the list of numbers. Since % takes O(1) time, and we check every number in the list once, it will take O(n) time.\n",
    "\n",
    "Snippet 3 - We add all the numbers in the list one by one. Since + takes O(1) time, hence the reduce will take O(n) time."
   ]
  }
 ],
 "metadata": {
  "kernelspec": {
   "display_name": "Python 3.9.12 ('base')",
   "language": "python",
   "name": "python3"
  },
  "language_info": {
   "codemirror_mode": {
    "name": "ipython",
    "version": 3
   },
   "file_extension": ".py",
   "mimetype": "text/x-python",
   "name": "python",
   "nbconvert_exporter": "python",
   "pygments_lexer": "ipython3",
   "version": "3.9.12"
  },
  "orig_nbformat": 4,
  "vscode": {
   "interpreter": {
    "hash": "df4116c29ce570581e1cb683795582f7adb44d67e4f558c03f5b862127a8895d"
   }
  }
 },
 "nbformat": 4,
 "nbformat_minor": 2
}
