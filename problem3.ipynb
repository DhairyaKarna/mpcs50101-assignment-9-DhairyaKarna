{
 "cells": [
  {
   "cell_type": "markdown",
   "metadata": {},
   "source": [
    "# Problem 3: Maximum Value\n",
    "Write a function that determines the maximum value from a list of numerical values.\n",
    "\n",
    "def max_number(list_of_numbers):\n",
    "  pass\n",
    "\n",
    "Write a statement using reduce that also determines the maximum value of a list of numerical values.\n",
    "\n",
    "reduce(something,something)\n",
    "\n",
    "Compare the two approaches in terms of the time complexity. You may want to sneek a peek at the implementation of any of the Python standard library functions you are using."
   ]
  },
  {
   "cell_type": "code",
   "execution_count": 5,
   "metadata": {},
   "outputs": [
    {
     "name": "stdout",
     "output_type": "stream",
     "text": [
      "Max number in list is, 9\n",
      "Time taken using function is, 0.0005468999999891366\n",
      "Max number in list is, 9\n",
      "Time taken using reduce is, 6.84000000035212e-05\n"
     ]
    }
   ],
   "source": [
    "#to use reduce\n",
    "from functools import reduce\n",
    "\n",
    "#to calculate time taken\n",
    "import timeit\n",
    "\n",
    "def max_numbers(list_of_numbers):\n",
    "    \"\"\"Function to determine max number in a list\"\"\"\n",
    "    maxi = -999999\n",
    "    for x in list_of_numbers:\n",
    "        if x > maxi:\n",
    "            maxi = x\n",
    "\n",
    "    return maxi\n",
    "\n",
    "list_of_numbers = [3,2,1,6,4,5,8,9,7,0]\n",
    "\n",
    "#Using function to determine the max value in a list and also calculate time taken\n",
    "#Since the function iterates through every element in the loop once, hence time taken is O(n)\n",
    "start_time_1 = timeit.default_timer()\n",
    "maximum_number = max_numbers(list_of_numbers)\n",
    "print(\"Max number in list is,\", maximum_number)\n",
    "print(\"Time taken using function is,\", timeit.default_timer()-start_time_1)\n",
    "\n",
    "#Using reduce to determine the max value in a list and also calculate time taken\n",
    "#Time complexity of reduce is O(n) as it perfroms the max operation on each element of the list\n",
    "start_time_2 = timeit.default_timer()\n",
    "maximum_number_2 = reduce(max, list_of_numbers)\n",
    "print(\"Max number in list is,\", maximum_number_2)\n",
    "print(\"Time taken using reduce is,\", timeit.default_timer()-start_time_2)"
   ]
  }
 ],
 "metadata": {
  "kernelspec": {
   "display_name": "Python 3.9.12 ('base')",
   "language": "python",
   "name": "python3"
  },
  "language_info": {
   "codemirror_mode": {
    "name": "ipython",
    "version": 3
   },
   "file_extension": ".py",
   "mimetype": "text/x-python",
   "name": "python",
   "nbconvert_exporter": "python",
   "pygments_lexer": "ipython3",
   "version": "3.9.12"
  },
  "orig_nbformat": 4,
  "vscode": {
   "interpreter": {
    "hash": "df4116c29ce570581e1cb683795582f7adb44d67e4f558c03f5b862127a8895d"
   }
  }
 },
 "nbformat": 4,
 "nbformat_minor": 2
}
