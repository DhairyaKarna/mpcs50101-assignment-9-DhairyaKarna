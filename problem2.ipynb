{
 "cells": [
  {
   "cell_type": "markdown",
   "metadata": {},
   "source": [
    "# Problem 2: Map vs. List Comprehension\n",
    "We could not finish off our last assignment with revisiting temperature conversion. It is back!\n",
    "\n",
    "Write a statement using map that takes a list of temperatures in Celsius and converts then to Fahrenheit.\n",
    "\n",
    "map(something, something)\n",
    "Write another statement using list comprehension to make the same conversion.\n",
    "\n",
    "converted_temps = [something something in something]\n",
    "Use the following list of temperature on each of your approaches:\n",
    "\n",
    "temperatures = [-32.0, 0.0, 1.0, 10.0, 32.0, 50.3, 88.8, 101.0]\n",
    "What is the time complexity of each approach? Devise and conduct a benchmarking experiment to determine if one is faster than the other in practice."
   ]
  },
  {
   "cell_type": "code",
   "execution_count": 11,
   "metadata": {},
   "outputs": [
    {
     "name": "stdout",
     "output_type": "stream",
     "text": [
      "[-35.56, -17.78, -17.22, -12.22, 0.0, 10.17, 31.56, 38.33]\n",
      "Time Taken by Map 0.00014359999977386906\n",
      "[-35.56, -17.78, -17.22, -12.22, 0.0, 10.17, 31.56, 38.33]\n",
      "Time Taken by List Comprehension 8.159999970303033e-05\n"
     ]
    }
   ],
   "source": [
    "import timeit\n",
    "\n",
    "#Fahrenheit will be in string as it is input\n",
    "Fahrenheit = input(\"Enter a temperature in Fahrenheit: \")\n",
    "\n",
    "#Converting all values to float using map\n",
    "Fahrenheit_list = list(map(float,Fahrenheit.split(',')))\n",
    "\n",
    "#Using map to calculate in Celsius and Calculate time\n",
    "#Time complexity of map function is O(n) as it perfroms the operation (5/9)*(x-32) on each element of the list\n",
    "start_time_1 = timeit.default_timer()\n",
    "Celsius_list_1 = list(map(lambda x:round((5/9)*(x-32),2),Fahrenheit_list))\n",
    "print(Celsius_list_1)\n",
    "print(\"Time Taken by Map\",timeit.default_timer()-start_time_1)\n",
    "\n",
    "#Using list comprehension to calculate in Celsius and Calculate time\n",
    "#Since the list comprehension iterates through every element in the loop once, hence time taken is O(n)\n",
    "start_time_2 = timeit.default_timer()\n",
    "Celsius_list_2 = [round((5/9)*(x-32),2) for x in Fahrenheit_list]\n",
    "print(Celsius_list_2)\n",
    "print(\"Time Taken by List Comprehension\",timeit.default_timer()-start_time_2)"
   ]
  },
  {
   "cell_type": "markdown",
   "metadata": {},
   "source": [
    "From the results on time taken it is evident that list comprehension is faster than map(lambda, list) in practice"
   ]
  }
 ],
 "metadata": {
  "kernelspec": {
   "display_name": "Python 3.9.12 ('base')",
   "language": "python",
   "name": "python3"
  },
  "language_info": {
   "codemirror_mode": {
    "name": "ipython",
    "version": 3
   },
   "file_extension": ".py",
   "mimetype": "text/x-python",
   "name": "python",
   "nbconvert_exporter": "python",
   "pygments_lexer": "ipython3",
   "version": "3.9.12"
  },
  "orig_nbformat": 4,
  "vscode": {
   "interpreter": {
    "hash": "df4116c29ce570581e1cb683795582f7adb44d67e4f558c03f5b862127a8895d"
   }
  }
 },
 "nbformat": 4,
 "nbformat_minor": 2
}
